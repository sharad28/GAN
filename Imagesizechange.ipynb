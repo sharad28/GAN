{
  "nbformat": 4,
  "nbformat_minor": 0,
  "metadata": {
    "colab": {
      "name": "Imagesizechange.ipynb",
      "provenance": [],
      "mount_file_id": "1QpqCohMnqovtqCZ2QZsWmbUxYlf6q5bj",
      "authorship_tag": "ABX9TyPBMWTNcrwNz40Lihk2sIgm",
      "include_colab_link": true
    },
    "kernelspec": {
      "name": "python3",
      "display_name": "Python 3"
    },
    "language_info": {
      "name": "python"
    }
  },
  "cells": [
    {
      "cell_type": "markdown",
      "metadata": {
        "id": "view-in-github",
        "colab_type": "text"
      },
      "source": [
        "<a href=\"https://colab.research.google.com/github/sharad28/GAN/blob/main/Imagesizechange.ipynb\" target=\"_parent\"><img src=\"https://colab.research.google.com/assets/colab-badge.svg\" alt=\"Open In Colab\"/></a>"
      ]
    },
    {
      "cell_type": "markdown",
      "source": [
        "\"\"\"\n",
        "All images resized to 128x128 to represent HR and 32x32 to represent LR.\n",
        "\"\"\""
      ],
      "metadata": {
        "id": "XYFiQY7yLl3C"
      }
    },
    {
      "cell_type": "code",
      "execution_count": 1,
      "metadata": {
        "colab": {
          "base_uri": "https://localhost:8080/",
          "height": 35
        },
        "id": "rzmxjtOm_tLo",
        "outputId": "23b31588-5092-4cc6-82cd-f6e686e9b863"
      },
      "outputs": [
        {
          "output_type": "execute_result",
          "data": {
            "text/plain": [
              "'\\nAll images resized to 128x128 to represent HR and 32x32 to represent LR.\\n'"
            ],
            "application/vnd.google.colaboratory.intrinsic+json": {
              "type": "string"
            }
          },
          "metadata": {},
          "execution_count": 1
        }
      ],
      "source": [
        "\"\"\"Dataset from: http://press.liacs.nl/mirflickr/mirdownload.html\n",
        "Read high res. original images and save lower versions to be used for SRGAN.\n",
        "Here, we are resizing them to 128x128 that will be  used as HR images and \n",
        "32x32 that will be used as LR images\n",
        "\"\"\"\n",
        "\n",
        "import cv2\n",
        "import numpy as np\n",
        "import os\n",
        "import matplotlib.pyplot as plt\n",
        "\n",
        "train_dir = \"data\" \n",
        "\n",
        "for img in os.listdir( train_dir + \"/original_images\"):\n",
        "    img_array = cv2.imread(train_dir + \"/original_images/\" + img)\n",
        "    \n",
        "    img_array = cv2.resize(img_array, (128,128))\n",
        "    lr_img_array = cv2.resize(img_array,(32,32))\n",
        "    cv2.imwrite(train_dir+ \"/hr_images/\" + img, img_array)\n",
        "    cv2.imwrite(train_dir+ \"/lr_images/\"+ img, lr_img_array)"
      ]
    },
    {
      "cell_type": "code",
      "source": [],
      "metadata": {
        "id": "itSaBqe7_1so"
      },
      "execution_count": null,
      "outputs": []
    }
  ]
}